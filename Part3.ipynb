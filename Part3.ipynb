{
 "cells": [
  {
   "cell_type": "code",
   "execution_count": 90,
   "metadata": {
    "pycharm": {
     "name": "#%%\n"
    }
   },
   "outputs": [],
   "source": []
  },
  {
   "cell_type": "markdown",
   "metadata": {},
   "source": [
    "## EMATM0048 - Software Development: Programming and Algorithms\n",
    "### Part 3"
   ]
  },
  {
   "cell_type": "markdown",
   "metadata": {},
   "source": [
    "Prepared by: Rajdeep Sarkar\n",
    "\n",
    "Jan, 2021\n",
    "\n"
   ]
  },
  {
   "cell_type": "markdown",
   "metadata": {},
   "source": [
    "This part of SDPA coursework will focus on Data Analytics on a real world dataset.\n",
    "\n",
    "### Source\n",
    "\n",
    "- The dataset for this application has been taken from Alpha Vantage API which collects live data of different series of cryptocurrencies and stocks.\n",
    "- The source link is as follows: https://www.alphavantage.co/\n"
   ]
  },
  {
   "cell_type": "markdown",
   "metadata": {},
   "source": [
    "Importing required libraries"
   ]
  },
  {
   "cell_type": "code",
   "execution_count": 91,
   "metadata": {
    "pycharm": {
     "name": "#%%\n"
    }
   },
   "outputs": [],
   "source": [
    "# importing Pandas library\n",
    "import pandas\n",
    "# importing matplotlib library for plotting graphs\n",
    "import matplotlib.pyplot as plt\n",
    "# importing time series library from Alpha Vantage\n",
    "from alpha_vantage.timeseries import TimeSeries\n",
    "# importing pprint for pretty-printing\n",
    "from pprint import pprint"
   ]
  },
  {
   "cell_type": "markdown",
   "metadata": {},
   "source": [
    "We will analyse the daily data of Microsoft 'MSFT' stocks."
   ]
  },
  {
   "cell_type": "code",
   "execution_count": 92,
   "metadata": {
    "pycharm": {
     "name": "#%%\n"
    }
   },
   "outputs": [],
   "source": [
    "time_series_data = TimeSeries(key='FVFCOFUE2Y0IA3FD', output_format='pandas')\n",
    "data, metadata = time_series_data.get_daily(symbol='MSFT', outputsize='full')"
   ]
  },
  {
   "cell_type": "markdown",
   "metadata": {},
   "source": [
    "Printing top 10 lines of the dataframe"
   ]
  },
  {
   "cell_type": "code",
   "execution_count": 93,
   "metadata": {
    "pycharm": {
     "name": "#%%\n"
    }
   },
   "outputs": [
    {
     "name": "stdout",
     "output_type": "stream",
     "text": [
      "            1. open  2. high    3. low  4. close   5. volume\n",
      "date                                                        \n",
      "2021-01-26   231.86   234.18  230.0800    232.33  49169601.0\n",
      "2021-01-25   229.12   229.78  224.2200    229.53  33152095.0\n",
      "2021-01-22   227.08   230.07  225.8000    225.95  30172663.0\n",
      "2021-01-21   224.70   226.30  222.4200    224.97  30749553.0\n",
      "2021-01-20   217.70   225.79  217.2908    224.34  37777260.0\n",
      "2021-01-19   213.75   216.98  212.6300    216.44  30480859.0\n",
      "2021-01-15   213.52   214.51  212.0300    212.65  31746512.0\n",
      "2021-01-14   215.91   217.46  212.7400    213.02  29346737.0\n",
      "2021-01-13   214.02   216.76  213.9266    216.34  20087080.0\n",
      "2021-01-12   216.50   217.10  213.3202    214.93  23148341.0\n"
     ]
    }
   ],
   "source": [
    "pprint(data.head(10))\n"
   ]
  },
  {
   "cell_type": "markdown",
   "metadata": {},
   "source": [
    "Loading the dataframe using Pandas"
   ]
  },
  {
   "cell_type": "code",
   "execution_count": 94,
   "metadata": {
    "pycharm": {
     "name": "#%%\n"
    }
   },
   "outputs": [],
   "source": [
    "ts_df = pandas.DataFrame(data)\n"
   ]
  },
  {
   "cell_type": "markdown",
   "metadata": {},
   "source": [
    "Renaming Columns names into desired names"
   ]
  },
  {
   "cell_type": "code",
   "execution_count": 95,
   "metadata": {
    "pycharm": {
     "name": "#%%\n"
    }
   },
   "outputs": [],
   "source": [
    "ts_df.columns = ['open', 'high', 'low', 'close', 'volume']\n"
   ]
  },
  {
   "cell_type": "markdown",
   "metadata": {
    "pycharm": {
     "name": "#%% md\n"
    }
   },
   "source": [
    "### Variables\n",
    "\n",
    "As the dataset is of Stocks value per day, there are 5 variables of our interest\n",
    "1. open : The opening stock value on that day\n",
    "2. high : The highest stock value on that day\n",
    "3. low : The lowest stock value on that day\n",
    "4. close : The closing stock value on that day\n",
    "5. volume : The total volume of stocks' value sold on that day\n"
   ]
  },
  {
   "cell_type": "code",
   "execution_count": 96,
   "metadata": {
    "pycharm": {
     "name": "#%%\n"
    }
   },
   "outputs": [
    {
     "name": "stdout",
     "output_type": "stream",
     "text": [
      "Index(['open', 'high', 'low', 'close', 'volume'], dtype='object')\n"
     ]
    }
   ],
   "source": [
    "# To display column names of the dataframe\n",
    "print(ts_df. columns)\n"
   ]
  },
  {
   "cell_type": "markdown",
   "metadata": {},
   "source": [
    "### Steps for data preparation\n",
    "1. Loading the dataset into a data frame using pandas.\n",
    "2. Viewing the number of rows and columns of the dataframe.\n",
    "3. Checking if there is any Null values in the dataframe.\n",
    "\n",
    "\n",
    "Exporting the dataframe to .csv file"
   ]
  },
  {
   "cell_type": "code",
   "execution_count": 97,
   "metadata": {
    "pycharm": {
     "name": "#%%\n"
    }
   },
   "outputs": [],
   "source": [
    "ts_df.to_csv('ts_df_csv.csv')"
   ]
  },
  {
   "cell_type": "markdown",
   "metadata": {},
   "source": [
    "Fetching the number of rows and columns"
   ]
  },
  {
   "cell_type": "code",
   "execution_count": 98,
   "metadata": {
    "pycharm": {
     "name": "#%%\n"
    }
   },
   "outputs": [],
   "source": [
    "rows = ts_df.shape[0]\n",
    "cols = ts_df.shape[1]"
   ]
  },
  {
   "cell_type": "markdown",
   "metadata": {},
   "source": [
    "Displaying number of rows, columns values"
   ]
  },
  {
   "cell_type": "code",
   "execution_count": 99,
   "metadata": {
    "pycharm": {
     "name": "#%%\n"
    }
   },
   "outputs": [
    {
     "name": "stdout",
     "output_type": "stream",
     "text": [
      "\n",
      "Number of Rows: 5343\n",
      "\n",
      "Number of Columns: 5\n"
     ]
    }
   ],
   "source": [
    "print(\"\\nNumber of Rows: \" + str(rows))\n",
    "print(\"\\nNumber of Columns: \" + str(cols))"
   ]
  },
  {
   "cell_type": "markdown",
   "metadata": {},
   "source": [
    "To check if the dataframe has any null or missing data"
   ]
  },
  {
   "cell_type": "code",
   "execution_count": 100,
   "metadata": {
    "pycharm": {
     "name": "#%%\n"
    }
   },
   "outputs": [
    {
     "name": "stdout",
     "output_type": "stream",
     "text": [
      "\n",
      "Does the dataframe has any null or missing values? \n",
      "False\n"
     ]
    }
   ],
   "source": [
    "print(\"\\nDoes the dataframe has any null or missing values? \\n\" + str(ts_df.isnull().values.any()))"
   ]
  },
  {
   "cell_type": "markdown",
   "metadata": {},
   "source": [
    "To calculate mean, standard deviation, count, min, max of each column"
   ]
  },
  {
   "cell_type": "code",
   "execution_count": 101,
   "metadata": {
    "pycharm": {
     "name": "#%%\n"
    }
   },
   "outputs": [
    {
     "name": "stdout",
     "output_type": "stream",
     "text": [
      "\n",
      "The statistics of each column is : \n",
      "              open         high          low        close        volume\n",
      "count  5343.000000  5343.000000  5343.000000  5343.000000  5.343000e+03\n",
      "mean     55.055836    55.679511    54.433202    55.068347  4.845456e+07\n",
      "std      43.267273    43.764180    42.747268    43.285281  2.807411e+07\n",
      "min      15.200000    15.620000    14.870000    15.150000  5.850800e+06\n",
      "25%      27.080000    27.320000    26.905000    27.115000  2.918338e+07\n",
      "50%      35.510000    35.730000    34.910000    35.440000  4.333320e+07\n",
      "75%      64.760000    65.495000    64.225000    64.865000  6.027280e+07\n",
      "max     231.860000   234.180000   230.080000   232.330000  5.910522e+08\n"
     ]
    }
   ],
   "source": [
    "print(\"\\nThe statistics of each column is : \\n\" +  str(ts_df.describe()))"
   ]
  },
  {
   "cell_type": "markdown",
   "metadata": {},
   "source": [
    "Q1: What id the mean of opening and closing stocks value?\n",
    "Q2: What is the lowest stock value in the entire dataframe?\n",
    "Q3: What is the highest stock value in the entire dataframe?\n",
    "\n",
    "\n",
    "A1: The mean of opening and closing stock value are 55.055836 and 55.068347  #\n",
    "A2: Lowest stock value is 14.870000\n",
    "A3: Highest stock value is 234.180000\n",
    "\n",
    "\n",
    "\n",
    "\n",
    "Visualizing each column in histogram"
   ]
  },
  {
   "cell_type": "code",
   "execution_count": 102,
   "metadata": {
    "pycharm": {
     "name": "#%%\n"
    }
   },
   "outputs": [
    {
     "data": {
      "image/png": "[encoded data removed]",
      "text/plain": [
       "<Figure size 432x288 with 1 Axes>"
      ]
     },
     "metadata": {
      "needs_background": "light"
     },
     "output_type": "display_data"
    },
    {
     "data": {
      "image/png": "[encoded data removed]",
      "text/plain": [
       "<Figure size 432x288 with 2 Axes>"
      ]
     },
     "metadata": {
      "needs_background": "light"
     },
     "output_type": "display_data"
    },
    {
     "data": {
      "image/png": "[encoded data removed]",
      "text/plain": [
       "<Figure size 432x288 with 2 Axes>"
      ]
     },
     "metadata": {
      "needs_background": "light"
     },
     "output_type": "display_data"
    }
   ],
   "source": [
    "ts_df.hist(column='volume')\n",
    "ts_df.hist(column=['open', 'close'])\n",
    "ts_df.hist(column=['low', 'high'])\n",
    "plt.show()"
   ]
  },
  {
   "cell_type": "markdown",
   "metadata": {},
   "source": [
    "Visualizing the comparison among columns 'open' vs 'close' stocks per day\n",
    "and 'high' vs 'low' stocks per day."
   ]
  },
  {
   "cell_type": "code",
   "execution_count": 103,
   "metadata": {
    "pycharm": {
     "name": "#%%\n"
    }
   },
   "outputs": [
    {
     "data": {
      "text/plain": [
       "<AxesSubplot:xlabel='high'>"
      ]
     },
     "execution_count": 103,
     "metadata": {},
     "output_type": "execute_result"
    },
    {
     "data": {
      "image/png": "[encoded data removed]",
      "text/plain": [
       "<Figure size 432x288 with 1 Axes>"
      ]
     },
     "metadata": {
      "needs_background": "light"
     },
     "output_type": "display_data"
    },
    {
     "data": {
      "image/png": "[encoded data removed]",
      "text/plain": [
       "<Figure size 432x288 with 1 Axes>"
      ]
     },
     "metadata": {
      "needs_background": "light"
     },
     "output_type": "display_data"
    }
   ],
   "source": [
    "ts_df.plot(x='open', y='close')\n",
    "ts_df.plot(x='high', y='low')\n"
   ]
  },
  {
   "cell_type": "markdown",
   "metadata": {
    "pycharm": {
     "name": "#%% md\n"
    }
   },
   "source": [
    "### Summary\n",
    "- We have learnt from the analysis that the stock market is very unpredictable.\n",
    "- The mean of the opening and closing stock values were close enough.\n",
    "- The more the data available, we can have a better idea on the analysis of data.\n",
    "\n",
    "- For further improvement, we must work on few more parameters like, the twitter data of the respective companing, that has an impact on the values of the stocks, so that we can analyse how that stock values are affected by company official's posts on the twitter."
   ]
  }
 ],
 "metadata": {
  "kernelspec": {
   "display_name": "Python 3",
   "language": "python",
   "name": "python3"
  },
  "language_info": {
   "codemirror_mode": {
    "name": "ipython",
    "version": 3
   },
   "file_extension": ".py",
   "mimetype": "text/x-python",
   "name": "python",
   "nbconvert_exporter": "python",
   "pygments_lexer": "ipython3",
   "version": "3.8.5"
  }
 },
 "nbformat": 4,
 "nbformat_minor": 1
}
